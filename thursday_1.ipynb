{
 "cells": [
  {
   "cell_type": "code",
   "execution_count": 1,
   "metadata": {},
   "outputs": [],
   "source": [
    "# simple logistic regression in numpy"
   ]
  },
  {
   "cell_type": "code",
   "execution_count": 80,
   "metadata": {},
   "outputs": [],
   "source": [
    "import numpy as np"
   ]
  },
  {
   "cell_type": "code",
   "execution_count": 155,
   "metadata": {},
   "outputs": [
    {
     "data": {
      "text/plain": [
       "((4, 2), (4, 1))"
      ]
     },
     "execution_count": 155,
     "metadata": {},
     "output_type": "execute_result"
    }
   ],
   "source": [
    "xdata=np.array([[0,0],[0,1],[1,0],[1,1]])\n",
    "ydata=np.array([[0],[1],[1],[1]])\n",
    "xdata.shape,ydata.shape"
   ]
  },
  {
   "cell_type": "code",
   "execution_count": 156,
   "metadata": {},
   "outputs": [],
   "source": [
    "def sigmoid(x):\n",
    "    return 1/(1+np.exp(-x))\n",
    "\n",
    "def sigmoid_derivative(x):\n",
    "    return x*(1-x)        "
   ]
  },
  {
   "cell_type": "code",
   "execution_count": 157,
   "metadata": {},
   "outputs": [
    {
     "data": {
      "text/plain": [
       "((2, 1), (1,))"
      ]
     },
     "execution_count": 157,
     "metadata": {},
     "output_type": "execute_result"
    }
   ],
   "source": [
    "input_neuron=2\n",
    "output_neuron=1\n",
    "etah=0.01\n",
    "batch_size=1\n",
    "\n",
    "w=np.random.random(size=(input_neuron,output_neuron))\n",
    "b=np.random.random(size=(output_neuron,))\n",
    "w.shape,b.shape"
   ]
  },
  {
   "cell_type": "code",
   "execution_count": 158,
   "metadata": {},
   "outputs": [],
   "source": [
    "for epoch in range(10000):\n",
    "    \n",
    "    for x,y in zip(xdata,ydata):\n",
    "    \n",
    "        x=x.reshape((1,2))\n",
    "        y=y.reshape((1,1))\n",
    "        out=sigmoid(np.dot(x,w)+b)\n",
    "        dw = ((out-y)*sigmoid_derivative(out)).reshape(1)\n",
    "        \n",
    "        x=x.reshape((2,1))\n",
    "        for i in range(len(w)):\n",
    "            w[i] = w[i] - etah*dw*x[i]\n",
    "        for i in range(len(b)):\n",
    "            b[i] = b[i] - etah*dw\n",
    "            "
   ]
  },
  {
   "cell_type": "code",
   "execution_count": 159,
   "metadata": {},
   "outputs": [
    {
     "name": "stdout",
     "output_type": "stream",
     "text": [
      "[[3.37802349]\n",
      " [3.39164189]] [-1.38659963]\n"
     ]
    }
   ],
   "source": [
    "print(w,b)"
   ]
  },
  {
   "cell_type": "code",
   "execution_count": 160,
   "metadata": {},
   "outputs": [
    {
     "name": "stdout",
     "output_type": "stream",
     "text": [
      "[0 1 1 1] [0, 1, 1, 1]\n"
     ]
    }
   ],
   "source": [
    "output=[]\n",
    "for x,y in zip(xdata,ydata):\n",
    "    \n",
    "    x=x.reshape((1,2))\n",
    "    y=y.reshape((1,1))\n",
    "    out=sigmoid(np.dot(x,w)+b).reshape(1)\n",
    "    if(out>0.5):\n",
    "        output.append(1)\n",
    "    else:\n",
    "        output.append(0)\n",
    "print(ydata.ravel(),output)"
   ]
  },
  {
   "cell_type": "code",
   "execution_count": null,
   "metadata": {},
   "outputs": [],
   "source": []
  }
 ],
 "metadata": {
  "kernelspec": {
   "display_name": "Python 3",
   "language": "python",
   "name": "python3"
  },
  "language_info": {
   "codemirror_mode": {
    "name": "ipython",
    "version": 3
   },
   "file_extension": ".py",
   "mimetype": "text/x-python",
   "name": "python",
   "nbconvert_exporter": "python",
   "pygments_lexer": "ipython3",
   "version": "3.6.5"
  }
 },
 "nbformat": 4,
 "nbformat_minor": 2
}
