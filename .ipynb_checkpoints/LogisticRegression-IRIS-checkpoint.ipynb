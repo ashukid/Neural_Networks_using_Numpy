{
 "cells": [
  {
   "cell_type": "code",
   "execution_count": 108,
   "metadata": {},
   "outputs": [],
   "source": [
    "#visualize data\n",
    "#convert data into binary"
   ]
  },
  {
   "cell_type": "code",
   "execution_count": 109,
   "metadata": {},
   "outputs": [],
   "source": [
    "from sklearn import datasets\n",
    "import numpy as np\n",
    "import matplotlib.pyplot as plt"
   ]
  },
  {
   "cell_type": "code",
   "execution_count": 110,
   "metadata": {},
   "outputs": [],
   "source": [
    "iris=datasets.load_iris()"
   ]
  },
  {
   "cell_type": "code",
   "execution_count": 116,
   "metadata": {},
   "outputs": [
    {
     "name": "stdout",
     "output_type": "stream",
     "text": [
      "(100, 2) (100,)\n"
     ]
    }
   ],
   "source": [
    "xd,yt=iris.data[:100,:2],iris.target[:100]\n",
    "print(xd.shape,yt.shape)"
   ]
  },
  {
   "cell_type": "code",
   "execution_count": 117,
   "metadata": {},
   "outputs": [],
   "source": [
    "indices = np.random.permutation(len(xd))\n",
    "xd=xd[indices]\n",
    "yt=yt[indices]"
   ]
  },
  {
   "cell_type": "code",
   "execution_count": 118,
   "metadata": {},
   "outputs": [],
   "source": [
    "xtrain,xtest=xd[:80],xd[80:]\n",
    "ytrain,ytest=yt[:80],yt[80:]"
   ]
  },
  {
   "cell_type": "code",
   "execution_count": 119,
   "metadata": {},
   "outputs": [],
   "source": [
    "def sigmoid(x):\n",
    "    return 1/(1+np.exp(-x))\n",
    "def sigmoid_derivative(x):\n",
    "    return x*(1-x)"
   ]
  },
  {
   "cell_type": "code",
   "execution_count": 120,
   "metadata": {},
   "outputs": [
    {
     "name": "stdout",
     "output_type": "stream",
     "text": [
      "(2, 1) (1,)\n"
     ]
    }
   ],
   "source": [
    "input_neuron=xd.shape[1]\n",
    "output_neuron=1\n",
    "\n",
    "w=np.random.uniform(size=(input_neuron,))\n",
    "b= np.random.uniform(size=(output_neuron,))\n",
    "print(w.shape,b.shape)"
   ]
  },
  {
   "cell_type": "code",
   "execution_count": 122,
   "metadata": {},
   "outputs": [],
   "source": [
    "for epoch in range(1000):\n",
    "    \n",
    "    for x,y in zip(xtrain,ytrain):\n",
    "        \n",
    "        out=sigmoid(np.dot(x,w)+b)\n",
    "        dw = (out-y)*sigmoid_derivative(out)\n",
    "        \n",
    "        for i in range(len(w)):\n",
    "            w[i] = w[i] - (0.01*dw*x[i])\n",
    "        for i in range(len(b)):\n",
    "            b[i] = b[i] - (0.01*dw)"
   ]
  },
  {
   "cell_type": "code",
   "execution_count": 123,
   "metadata": {},
   "outputs": [
    {
     "name": "stdout",
     "output_type": "stream",
     "text": [
      "[0 0 1 0 1 1 0 1 0 1 1 1 1 0 0 1 1 1 0 0] [0, 0, 1, 0, 1, 1, 0, 1, 0, 1, 1, 1, 1, 0, 0, 1, 1, 1, 0, 0]\n"
     ]
    }
   ],
   "source": [
    "output=[]\n",
    "for x in xtest:\n",
    "    \n",
    "    x=x.reshape((1,input_neuron))\n",
    "    out=sigmoid(np.dot(x,w)+b).reshape(1)\n",
    "    if(out>0.5):\n",
    "        output.append(1)\n",
    "    else:\n",
    "        output.append(0)\n",
    "print(ytest.ravel(),output)"
   ]
  },
  {
   "cell_type": "code",
   "execution_count": 129,
   "metadata": {},
   "outputs": [
    {
     "name": "stdout",
     "output_type": "stream",
     "text": [
      "2.935391455003336 -5.030138884144957\n"
     ]
    }
   ],
   "source": [
    "w1=w[0][0]\n",
    "w2=w[1][0]\n",
    "print(w1,w2)"
   ]
  },
  {
   "cell_type": "code",
   "execution_count": 131,
   "metadata": {},
   "outputs": [],
   "source": [
    "x1=xtrain[:,0]\n",
    "x2=[-i*(w1/w2) for i in x1]"
   ]
  },
  {
   "cell_type": "code",
   "execution_count": 133,
   "metadata": {},
   "outputs": [
    {
     "data": {
      "image/png": "[encoded data removed]",
      "text/plain": [
       "<Figure size 432x288 with 1 Axes>"
      ]
     },
     "metadata": {},
     "output_type": "display_data"
    }
   ],
   "source": [
    "plt.figure()\n",
    "plt.scatter(xtest[:,0],xtest[:,1],c=ytest)\n",
    "\n",
    "plt.plot(x1,x2)\n",
    "plt.show()"
   ]
  },
  {
   "cell_type": "code",
   "execution_count": null,
   "metadata": {},
   "outputs": [],
   "source": []
  }
 ],
 "metadata": {
  "kernelspec": {
   "display_name": "Python 3",
   "language": "python",
   "name": "python3"
  },
  "language_info": {
   "codemirror_mode": {
    "name": "ipython",
    "version": 3
   },
   "file_extension": ".py",
   "mimetype": "text/x-python",
   "name": "python",
   "nbconvert_exporter": "python",
   "pygments_lexer": "ipython3",
   "version": "3.6.5"
  }
 },
 "nbformat": 4,
 "nbformat_minor": 2
}
